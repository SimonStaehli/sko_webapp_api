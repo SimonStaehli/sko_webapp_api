{
 "cells": [
  {
   "cell_type": "code",
   "execution_count": 1,
   "id": "21bdd68e-c49a-44dc-b0b9-9c5bbf17e9f7",
   "metadata": {},
   "outputs": [],
   "source": [
    "from sklearn.linear_model import Lasso\n",
    "from sklearn.datasets import load_boston\n",
    "import pickle\n",
    "import requests\n",
    "import pandas as pd\n",
    "import numpy as np\n",
    "import seaborn as sns\n",
    "import subprocess"
   ]
  },
  {
   "cell_type": "markdown",
   "id": "d87bb3c9-3f11-4d7e-9773-678d7f81ae46",
   "metadata": {},
   "source": [
    "# Documentation of ML-API\n",
    "\n",
    "## Idea\n",
    "\n",
    "In our project `Immobilienpreisrechner` in the third semester we have built a Machine Learning model to predict housing prices as accurate as possible. One task of this project was to implement an API for our model as well. Our API was not strucutured very well and it did not allow to pre-process the data same as the data we used to build and train our model. We did not a have a clear data pipeline for our model. In this small project for the study course web data collection I wanted to fix this issue and implement a basis to make a possible roll-out of the model possible.\n",
    "\n",
    "## Description of the Service\n",
    "\n",
    "In my opinion this service provides a framework for me in the fututer to implement a machine learning model and roll it out for customer or a colleague.\n",
    "The API provides all relevant operations like predictions, scoring for customers as well as for a maintainer with the methods to update the model parameters and deletion of the model.\n",
    "\n",
    "## CRUD Operations\n",
    "\n",
    "The API allows several Operations. It allows CRUD (Create, Read, Update, Delete). Here I will describe each endpoint and what kind of CRUD Operations it is classified. It is to mention that for this purpose the Create operation is very hard to implement as the pre-processing of the data and the model methods variate a lot.\n",
    "\n",
    "- `\\predict`: Read\n",
    "- `\\score`: Read\n",
    "- `\\model_params`: Read\n",
    "- `\\update_model`: Update\n",
    "- `\\delete_model`: Delete\n",
    "\n",
    "## Choice API\n",
    "\n",
    "The reason why I have choosen Restful over GraphQL for my API is that with each request I only need to perform one certain task which returns the exact data what was responded. This could be predictions for given dataset X for instance. I do not have any specialization or data which exceeds the user requests like a user profile for example, which would be returned entirely by one request. Therefore the GraphQL would be much more appropriate as it provides much more flexibility to a requester. It allows much more finegrained requests [(How to GraphQL, 2017)](https://www.howtographql.com/basics/1-graphql-is-the-better-rest/). You would not have a data overhead and just get the data requested over the API. In my application with the model we do not have any overfitting of the requests and therefore the Restful API is more appropriate. The implemented Restful API only allows to get and manipulate certain parameters or data of the model. \n",
    "\n",
    "## Getting Started\n",
    "\n",
    "I would like to introduce the API with a small working example with a simple Lineare Regression Model trained on the Boston Housing dataset (built-in Sklearn. [(Pedregosa et al., 2011)](https://scikit-learn.org/stable/modules/generated/sklearn.datasets.load_boston.html)\n",
    "\n",
    "### Start the API\n",
    "\n",
    "First of all we have to start the API which is located in the exact same folder. Therefore I am using a subprocess instance."
   ]
  },
  {
   "cell_type": "code",
   "execution_count": 26,
   "id": "2e208528-b5c2-41a8-a430-732aba93a60e",
   "metadata": {},
   "outputs": [],
   "source": [
    "process = subprocess.Popen('python api.py', shell=True)"
   ]
  },
  {
   "cell_type": "markdown",
   "id": "519f66dc-0025-44a1-afd0-28a0db877a90",
   "metadata": {},
   "source": [
    "### Load Sample Data\n",
    "\n",
    "Now we are loading the Sample data as defined above in our RAM [(Pedregosa et al., 2011)](https://scikit-learn.org/stable/modules/generated/sklearn.datasets.load_boston.html)."
   ]
  },
  {
   "cell_type": "code",
   "execution_count": 3,
   "id": "99dbee74-eec4-4e1b-b98e-afb8ba36c456",
   "metadata": {},
   "outputs": [],
   "source": [
    "X, y = load_boston(return_X_y=True)"
   ]
  },
  {
   "cell_type": "markdown",
   "id": "1a7c9718-187a-4b12-8055-27dab05343ea",
   "metadata": {
    "tags": []
   },
   "source": [
    "### Train a Simple Model on it\n",
    "\n",
    "After we loaded our data we can train a model based on that data. The model which we will use is a Linear Regression model from Sklearn [(Pedregosa et al., 2011)](https://scikit-learn.org/stable/modules/generated/sklearn.linear_model.LinearRegression.html)."
   ]
  },
  {
   "cell_type": "code",
   "execution_count": 4,
   "id": "35990e26-6550-40ac-82fd-d941a1e4196c",
   "metadata": {},
   "outputs": [
    {
     "data": {
      "text/plain": [
       "array([30.99753918, 25.77681736, 29.98601449, 29.51799813, 28.03248999,\n",
       "       27.51646227, 24.45293184, 19.85336661, 11.03931099, 20.52605621])"
      ]
     },
     "execution_count": 4,
     "metadata": {},
     "output_type": "execute_result"
    }
   ],
   "source": [
    "model = Lasso()\n",
    "model.fit(X, y)\n",
    "y_pred = model.predict(X)\n",
    "y_pred[:10]"
   ]
  },
  {
   "cell_type": "code",
   "execution_count": 5,
   "id": "3cb3f34f-b61e-4dc1-b697-6d9f44954baf",
   "metadata": {},
   "outputs": [
    {
     "name": "stdout",
     "output_type": "stream",
     "text": [
      "R2 Score:  0.6825842212709925\n"
     ]
    }
   ],
   "source": [
    "print('R2 Score: ', model.score(X, y))"
   ]
  },
  {
   "cell_type": "markdown",
   "id": "af1e92d6-84f5-4910-8b10-baff0cc24443",
   "metadata": {},
   "source": [
    "### Write File to Folder\n",
    "\n",
    "To make the model available to our API we need to save it as pickle in the same folder in which the api is located. If there is a change to folder it needs to be adapted in the `api.py`."
   ]
  },
  {
   "cell_type": "code",
   "execution_count": 6,
   "id": "4e5ae561-f19a-42c3-a807-1e83c4b7b1d6",
   "metadata": {},
   "outputs": [],
   "source": [
    "# Save same model as pickle file\n",
    "with open('./src/model_1.pkl', 'wb') as model_file:\n",
    "    pickle.dump(obj=model, file=model_file)"
   ]
  },
  {
   "cell_type": "code",
   "execution_count": 7,
   "id": "a2963fad-299e-4ff9-960a-e6d97f1a51d1",
   "metadata": {},
   "outputs": [],
   "source": [
    "# Read model with another name.\n",
    "with open('./src/model_1.pkl','rb') as model_file:\n",
    "    lin_reg = pickle.load(model_file)"
   ]
  },
  {
   "cell_type": "markdown",
   "id": "ab725798-2b5f-4a5e-9f82-dc80d590d6bf",
   "metadata": {
    "tags": []
   },
   "source": [
    "### Create new Model Endpoint\n",
    "\n",
    "Endpoint: `\\create_model`\n",
    "\n",
    "Creates a new model with a fitting id within the src folder. Then the id of the new model will be returned for further usage.\n",
    "Because it is not possible to upload a python object to the API it is currently only possible to adapt an existing model. For example if there are only Lasso Regression models stored in src folder you can only adapt the lasso model."
   ]
  },
  {
   "cell_type": "code",
   "execution_count": 9,
   "id": "1e59c162-deff-45cf-852b-905e895329e6",
   "metadata": {},
   "outputs": [],
   "source": [
    "# The URL of our API \n",
    "base_url = 'http://127.0.0.1:5000'"
   ]
  },
  {
   "cell_type": "code",
   "execution_count": 7,
   "id": "adf9de98-d06f-4d4f-bc45-657a337d7de4",
   "metadata": {},
   "outputs": [],
   "source": [
    "new_model_params = {'alpha': .5}"
   ]
  },
  {
   "cell_type": "code",
   "execution_count": 10,
   "id": "5744a536-ac9a-4772-9551-d55cc33dd48e",
   "metadata": {},
   "outputs": [
    {
     "name": "stdout",
     "output_type": "stream",
     "text": [
      "HTTP-Statuscode: 200\n"
     ]
    }
   ],
   "source": [
    "# Send request\n",
    "response = requests.put(url=base_url+'/create_model', json=new_model_params)\n",
    "print('HTTP-Statuscode:', response.status_code)"
   ]
  },
  {
   "cell_type": "code",
   "execution_count": 12,
   "id": "8f653434-2f79-446d-910f-9fce033877e4",
   "metadata": {},
   "outputs": [
    {
     "data": {
      "text/plain": [
       "{'model_id': 4}"
      ]
     },
     "execution_count": 12,
     "metadata": {},
     "output_type": "execute_result"
    }
   ],
   "source": [
    "response.json()"
   ]
  },
  {
   "cell_type": "markdown",
   "id": "e1ccf4bc-7116-48c1-8a39-3ed3fdd17655",
   "metadata": {},
   "source": [
    "### Prediction Endpoint\n",
    "\n",
    "Endpoint : `\\predict`\n",
    "\n",
    "First endpoint of the API, which we will check, is the prediction endpoint. With this endpoint you can send data to the API with POST method. \n",
    "We will convert our numpy array to a dataframe. This will make it easier to convert to JSON datatype which is needed for the API."
   ]
  },
  {
   "cell_type": "code",
   "execution_count": 13,
   "id": "fc3cb561-8dbb-4771-aae2-423fdfafc18c",
   "metadata": {},
   "outputs": [
    {
     "data": {
      "text/html": [
       "<div>\n",
       "<style scoped>\n",
       "    .dataframe tbody tr th:only-of-type {\n",
       "        vertical-align: middle;\n",
       "    }\n",
       "\n",
       "    .dataframe tbody tr th {\n",
       "        vertical-align: top;\n",
       "    }\n",
       "\n",
       "    .dataframe thead th {\n",
       "        text-align: right;\n",
       "    }\n",
       "</style>\n",
       "<table border=\"1\" class=\"dataframe\">\n",
       "  <thead>\n",
       "    <tr style=\"text-align: right;\">\n",
       "      <th></th>\n",
       "      <th>0</th>\n",
       "      <th>1</th>\n",
       "      <th>2</th>\n",
       "      <th>3</th>\n",
       "      <th>4</th>\n",
       "      <th>5</th>\n",
       "      <th>6</th>\n",
       "      <th>7</th>\n",
       "      <th>8</th>\n",
       "      <th>9</th>\n",
       "      <th>10</th>\n",
       "      <th>11</th>\n",
       "      <th>12</th>\n",
       "    </tr>\n",
       "  </thead>\n",
       "  <tbody>\n",
       "    <tr>\n",
       "      <th>0</th>\n",
       "      <td>0.00632</td>\n",
       "      <td>18.0</td>\n",
       "      <td>2.31</td>\n",
       "      <td>0.0</td>\n",
       "      <td>0.538</td>\n",
       "      <td>6.575</td>\n",
       "      <td>65.2</td>\n",
       "      <td>4.0900</td>\n",
       "      <td>1.0</td>\n",
       "      <td>296.0</td>\n",
       "      <td>15.3</td>\n",
       "      <td>396.9</td>\n",
       "      <td>4.98</td>\n",
       "    </tr>\n",
       "    <tr>\n",
       "      <th>1</th>\n",
       "      <td>0.02731</td>\n",
       "      <td>0.0</td>\n",
       "      <td>7.07</td>\n",
       "      <td>0.0</td>\n",
       "      <td>0.469</td>\n",
       "      <td>6.421</td>\n",
       "      <td>78.9</td>\n",
       "      <td>4.9671</td>\n",
       "      <td>2.0</td>\n",
       "      <td>242.0</td>\n",
       "      <td>17.8</td>\n",
       "      <td>396.9</td>\n",
       "      <td>9.14</td>\n",
       "    </tr>\n",
       "  </tbody>\n",
       "</table>\n",
       "</div>"
      ],
      "text/plain": [
       "        0     1     2    3      4      5     6       7    8      9     10  \\\n",
       "0  0.00632  18.0  2.31  0.0  0.538  6.575  65.2  4.0900  1.0  296.0  15.3   \n",
       "1  0.02731   0.0  7.07  0.0  0.469  6.421  78.9  4.9671  2.0  242.0  17.8   \n",
       "\n",
       "      11    12  \n",
       "0  396.9  4.98  \n",
       "1  396.9  9.14  "
      ]
     },
     "execution_count": 13,
     "metadata": {},
     "output_type": "execute_result"
    }
   ],
   "source": [
    "# Create dataframe to convert it to json\n",
    "data = pd.DataFrame(X)\n",
    "data.head(2)"
   ]
  },
  {
   "cell_type": "code",
   "execution_count": 14,
   "id": "b2d65a9d-6e4d-438f-8b30-af4d6eb2a7e0",
   "metadata": {},
   "outputs": [],
   "source": [
    "# Convert to JSON\n",
    "data = data.to_json(orient='records')"
   ]
  },
  {
   "cell_type": "code",
   "execution_count": 15,
   "id": "16832a7c-9943-426f-bf8e-b75441806bff",
   "metadata": {},
   "outputs": [
    {
     "name": "stdout",
     "output_type": "stream",
     "text": [
      "HTTP-Statuscode: 200\n"
     ]
    }
   ],
   "source": [
    "# Send request\n",
    "response = requests.post(url=base_url+'/predict/2', json=data)\n",
    "print('HTTP-Statuscode:', response.status_code)"
   ]
  },
  {
   "cell_type": "code",
   "execution_count": 16,
   "id": "d28aa063-7317-4093-8f41-a385a461db21",
   "metadata": {},
   "outputs": [
    {
     "name": "stdout",
     "output_type": "stream",
     "text": [
      "Predictions : \n",
      " [30.997539182131003, 25.77681736060179, 29.986014494727087, 29.517998131638052, 28.032489994804962]\n"
     ]
    }
   ],
   "source": [
    "print('Predictions : \\n', response.json()[:5])"
   ]
  },
  {
   "cell_type": "code",
   "execution_count": 32,
   "id": "e252863d-d361-4138-b68b-9427ea2cf00c",
   "metadata": {},
   "outputs": [],
   "source": [
    "foo =  np.array([1])"
   ]
  },
  {
   "cell_type": "code",
   "execution_count": 33,
   "id": "3bf681eb-d971-485b-ae05-928c93649493",
   "metadata": {},
   "outputs": [
    {
     "data": {
      "text/plain": [
       "numpy.ndarray"
      ]
     },
     "execution_count": 33,
     "metadata": {},
     "output_type": "execute_result"
    }
   ],
   "source": [
    "type(foo)"
   ]
  },
  {
   "cell_type": "markdown",
   "id": "817289a3-7dc2-4d39-8bef-cf9983561250",
   "metadata": {
    "tags": []
   },
   "source": [
    "### Score Endpoint\n",
    "\n",
    "Endpoint: `\\score`\n",
    "\n",
    "Next we will test the Scoring endpoint of the API. The scoring endpoint returns the score of the model reached by the uploaded data. Therefore we have to send the X and y data encoded as JSON."
   ]
  },
  {
   "cell_type": "code",
   "execution_count": 17,
   "id": "fdf740b4-c854-456f-9f40-e8d385a4deda",
   "metadata": {},
   "outputs": [],
   "source": [
    "y_ = pd.DataFrame(y)\n",
    "y_ = y_.to_json(orient='records')"
   ]
  },
  {
   "cell_type": "code",
   "execution_count": 18,
   "id": "c2f80b5a-be3d-45b8-91ad-f098b698e5e2",
   "metadata": {},
   "outputs": [],
   "source": [
    "data_ = dict(X=data, y=y_)"
   ]
  },
  {
   "cell_type": "code",
   "execution_count": 19,
   "id": "d399e9cc-7445-4ef9-a1e0-83abe46b83ec",
   "metadata": {},
   "outputs": [
    {
     "name": "stdout",
     "output_type": "stream",
     "text": [
      "HTTP-Statuscode: 200\n"
     ]
    }
   ],
   "source": [
    "response = requests.post(url=base_url+'/score/2', json=data_)\n",
    "print('HTTP-Statuscode:', response.status_code)"
   ]
  },
  {
   "cell_type": "code",
   "execution_count": 20,
   "id": "2f55a8cc-8ed3-495f-a5cc-64491fc5905b",
   "metadata": {},
   "outputs": [
    {
     "name": "stdout",
     "output_type": "stream",
     "text": [
      "R2-Score:  0.6825842212709925\n"
     ]
    }
   ],
   "source": [
    "print('R2-Score: ',response.json())"
   ]
  },
  {
   "cell_type": "markdown",
   "id": "bb36b15b-57e4-4eca-8b2c-d6fc2e1c7417",
   "metadata": {},
   "source": [
    "### Model Coefficients Endpoint\n",
    "\n",
    "Endpoint: `\\model_params`\n",
    "\n",
    "This endpoint can be reached with a GET requests and returns the model parameters. The model parameters depend on the model used. It is expected that this changes from model to model. In accordance with that the model parameters have to be changed."
   ]
  },
  {
   "cell_type": "code",
   "execution_count": 21,
   "id": "50d68f25-1771-4211-ada1-aa3f6b3a105e",
   "metadata": {},
   "outputs": [
    {
     "name": "stdout",
     "output_type": "stream",
     "text": [
      "HTTP-Statuscode: 200\n"
     ]
    }
   ],
   "source": [
    "response = requests.get(url=base_url + '/model_params/2')\n",
    "print('HTTP-Statuscode:', response.status_code)"
   ]
  },
  {
   "cell_type": "code",
   "execution_count": 22,
   "id": "c1047a54-3943-4b05-8e69-ccfa1e3b68e2",
   "metadata": {},
   "outputs": [
    {
     "data": {
      "text/plain": [
       "[-0.06343729004514066, 0.04916466550764739, -0.0, 0.0]"
      ]
     },
     "execution_count": 22,
     "metadata": {},
     "output_type": "execute_result"
    }
   ],
   "source": [
    "model_coef = response.json()\n",
    "model_coef[:4]"
   ]
  },
  {
   "cell_type": "markdown",
   "id": "0a6eb00e-a7ff-41cc-8074-d916adf8d2a4",
   "metadata": {
    "tags": []
   },
   "source": [
    "### Update Model Endpoint\n",
    "\n",
    "Endpoint: `/update_model`\n",
    "\n",
    "This endpoint can be reached with a put request. With this requests you give the model new model parameters. As well as the method above this need to be changed as the model parameters strongly depend on the model. However it makes sense to change the model parameters if the model need to be retrained with new data for instance time series data."
   ]
  },
  {
   "cell_type": "code",
   "execution_count": 23,
   "id": "ab5ab1d1-7e1f-477e-bfe2-d43665e7e1df",
   "metadata": {},
   "outputs": [
    {
     "name": "stdout",
     "output_type": "stream",
     "text": [
      "HTTP-Statuscode: 200\n"
     ]
    }
   ],
   "source": [
    "# Update model parameters\n",
    "response = requests.put(url=base_url+'/update_model/2', json={'params': np.random.uniform(size=len(model.coef_)).tolist()})\n",
    "print('HTTP-Statuscode:', response.status_code)"
   ]
  },
  {
   "cell_type": "code",
   "execution_count": 24,
   "id": "abf8534e-73d1-42a2-9d48-1a200a71d777",
   "metadata": {},
   "outputs": [
    {
     "data": {
      "text/plain": [
       "'Parameters updated successfully.'"
      ]
     },
     "execution_count": 24,
     "metadata": {},
     "output_type": "execute_result"
    }
   ],
   "source": [
    "# Print response\n",
    "response.json()"
   ]
  },
  {
   "cell_type": "code",
   "execution_count": 25,
   "id": "324402b9-e175-4c8f-91a3-73bbdace2aff",
   "metadata": {},
   "outputs": [],
   "source": [
    "# Check if model parameters have changed by requesting the model parameters\n",
    "response = requests.get(url=base_url + '/model_params/2')"
   ]
  },
  {
   "cell_type": "code",
   "execution_count": 26,
   "id": "9a8effb6-bca2-4676-b19b-8f5e3271225d",
   "metadata": {},
   "outputs": [
    {
     "name": "stdout",
     "output_type": "stream",
     "text": [
      "New Model Parameters: \n",
      " [0.9000217407350327, 0.7428973495218715, 0.7119075382712972, 0.9553291521520786]\n",
      "Old Model Parameters: \n",
      " [-0.06343729  0.04916467 -0.          0.        ]\n"
     ]
    }
   ],
   "source": [
    "model_coef = response.json()\n",
    "\n",
    "print('New Model Parameters: \\n', model_coef[:4])\n",
    "print('Old Model Parameters: \\n', model.coef_[:4])"
   ]
  },
  {
   "cell_type": "markdown",
   "id": "b3940507-e8c7-4b9b-b55e-487bfd5f6f24",
   "metadata": {},
   "source": [
    "In comparisson to the old parameters we can see that the parameters have been changed now.\n",
    "\n",
    "### Delete Model Endpoint\n",
    "\n",
    "Endpoint: `\\delete_model` \n",
    "\n",
    "As we have changed the model parameters the model is in fact not usable anymore. Ultimately we have to delete it. For this purpose I created a delete endpoint. "
   ]
  },
  {
   "cell_type": "code",
   "execution_count": 27,
   "id": "6fd63224-046b-4318-b3d9-2c4e06989ac3",
   "metadata": {},
   "outputs": [
    {
     "name": "stdout",
     "output_type": "stream",
     "text": [
      "HTTP-Statuscode: 200\n"
     ]
    }
   ],
   "source": [
    "response = requests.delete(url=base_url+ '/delete_model/2')\n",
    "print('HTTP-Statuscode:', response.status_code)"
   ]
  },
  {
   "cell_type": "code",
   "execution_count": 28,
   "id": "20904bdc-59db-43a4-b973-31808b4f2a97",
   "metadata": {},
   "outputs": [
    {
     "name": "stdout",
     "output_type": "stream",
     "text": [
      "Model Deleted Successfully.\n"
     ]
    }
   ],
   "source": [
    "print(response.json())"
   ]
  },
  {
   "cell_type": "code",
   "execution_count": 29,
   "id": "5e684d9b-1314-475f-9e94-9241fd4269ba",
   "metadata": {},
   "outputs": [
    {
     "ename": "NameError",
     "evalue": "name 'process' is not defined",
     "output_type": "error",
     "traceback": [
      "\u001b[1;31m---------------------------------------------------------------------------\u001b[0m",
      "\u001b[1;31mNameError\u001b[0m                                 Traceback (most recent call last)",
      "\u001b[1;32m<ipython-input-29-76b7f9915ad6>\u001b[0m in \u001b[0;36m<module>\u001b[1;34m\u001b[0m\n\u001b[0;32m      1\u001b[0m \u001b[1;31m# End suprocess\u001b[0m\u001b[1;33m\u001b[0m\u001b[1;33m\u001b[0m\u001b[1;33m\u001b[0m\u001b[0m\n\u001b[1;32m----> 2\u001b[1;33m \u001b[0mprocess\u001b[0m\u001b[1;33m.\u001b[0m\u001b[0mkill\u001b[0m\u001b[1;33m(\u001b[0m\u001b[1;33m)\u001b[0m\u001b[1;33m\u001b[0m\u001b[1;33m\u001b[0m\u001b[0m\n\u001b[0m",
      "\u001b[1;31mNameError\u001b[0m: name 'process' is not defined"
     ]
    }
   ],
   "source": [
    "# End suprocess\n",
    "process.kill()"
   ]
  },
  {
   "cell_type": "markdown",
   "id": "0e5fb9cc-f780-4888-9c42-547b936315e7",
   "metadata": {
    "tags": []
   },
   "source": [
    "## Sources\n",
    "\n",
    "Pedregosa, F, G Varoquaux, und A Gramfort. „Scikit-Learn: Machine Learning in Pyton“. Sklearn, 2011. https://scikit-learn.org/stable/index.html.\n",
    "\n",
    "Prisma. HowToGraphQL (Fundamentals) - GraphQL is the better REST (2/4), 2017. https://www.youtube.com/watch?v=T571423fC68.\n",
    "\n",
    "Staehli, Simon, und Firat Saritas. „Immobilienpreisrechner“. GitLab, 10. Januar 2021. https://gitlab.fhnw.ch/simon.staehli/immobilienpreisrechner.\n",
    "\n"
   ]
  }
 ],
 "metadata": {
  "kernelspec": {
   "display_name": "Python 3",
   "language": "python",
   "name": "python3"
  },
  "language_info": {
   "codemirror_mode": {
    "name": "ipython",
    "version": 3
   },
   "file_extension": ".py",
   "mimetype": "text/x-python",
   "name": "python",
   "nbconvert_exporter": "python",
   "pygments_lexer": "ipython3",
   "version": "3.8.11"
  }
 },
 "nbformat": 4,
 "nbformat_minor": 5
}
