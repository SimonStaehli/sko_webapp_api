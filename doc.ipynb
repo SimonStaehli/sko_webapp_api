{
 "cells": [
  {
   "cell_type": "code",
   "execution_count": 17,
   "id": "21bdd68e-c49a-44dc-b0b9-9c5bbf17e9f7",
   "metadata": {},
   "outputs": [],
   "source": [
    "from sklearn.datasets import load_boston\n",
    "import pickle\n",
    "import requests\n",
    "import pandas as pd\n",
    "import numpy as np\n",
    "import seaborn as sns"
   ]
  },
  {
   "cell_type": "markdown",
   "id": "d87bb3c9-3f11-4d7e-9773-678d7f81ae46",
   "metadata": {
    "tags": []
   },
   "source": [
    "# Documentation of ML-API\n",
    "\n",
    "## Idea\n",
    "\n",
    "In our project `Immobilienpreisrechner` in the third semester we have built a Machine Learning model to predict housing prices as accurate as possible. One task of this project was to implement an API for our model as well. Our API was not strucutured very well and it did not allow to pre-process the data same as the data we used to build and train our model. We did not a have a clear data pipeline for our model. In this small project for the study course web data collection I wanted to fix this issue and implement a basis to make a possible roll-out of the model possible.\n",
    "\n",
    "## Description of the Service\n",
    "\n",
    "In my opinion this service provides a framework for me in the fututer to implement a machine learning model and roll it out for customer or a colleague.\n",
    "The API provides all relevant operations like predictions, scoring for customers as well as for a maintainer with the methods to update the model parameters and deletion of the model.\n"
   ]
  },
  {
   "cell_type": "markdown",
   "id": "519f66dc-0025-44a1-afd0-28a0db877a90",
   "metadata": {},
   "source": [
    "### Load Sample Data\n",
    "\n",
    "Now we are loading the Sample data as defined above in our RAM [(Pedregosa et al., 2011)](https://scikit-learn.org/stable/modules/generated/sklearn.datasets.load_boston.html)."
   ]
  },
  {
   "cell_type": "code",
   "execution_count": 18,
   "id": "99dbee74-eec4-4e1b-b98e-afb8ba36c456",
   "metadata": {},
   "outputs": [],
   "source": [
    "X, y = load_boston(return_X_y=True)"
   ]
  },
  {
   "cell_type": "markdown",
   "id": "3ef8d81c-70b6-4fb8-9e08-6f3af9a3dc25",
   "metadata": {},
   "source": [
    "### Local Test Client"
   ]
  },
  {
   "cell_type": "code",
   "execution_count": 19,
   "id": "e474b012-9333-4510-a4a9-d03d924402f8",
   "metadata": {},
   "outputs": [],
   "source": [
    "from api import app"
   ]
  },
  {
   "cell_type": "code",
   "execution_count": 20,
   "id": "350c65e1-1a5e-4d26-a2e0-edb2ebc67701",
   "metadata": {},
   "outputs": [],
   "source": [
    "app = app.test_client()"
   ]
  },
  {
   "cell_type": "code",
   "execution_count": 21,
   "id": "251c5f03-d229-4ca2-98b9-795383ae3138",
   "metadata": {},
   "outputs": [],
   "source": [
    "r = app.get('/check')"
   ]
  },
  {
   "cell_type": "code",
   "execution_count": 22,
   "id": "a75b998e-e334-4f31-8ecf-8f35afd1a32b",
   "metadata": {},
   "outputs": [
    {
     "data": {
      "text/plain": [
       "200"
      ]
     },
     "execution_count": 22,
     "metadata": {},
     "output_type": "execute_result"
    }
   ],
   "source": [
    "r.get_json()"
   ]
  },
  {
   "cell_type": "code",
   "execution_count": 50,
   "id": "54a384a6-ff31-4b95-b58a-78565b186e71",
   "metadata": {},
   "outputs": [
    {
     "data": {
      "text/plain": [
       "['model_1.pkl']"
      ]
     },
     "execution_count": 50,
     "metadata": {},
     "output_type": "execute_result"
    }
   ],
   "source": [
    "# Print All models on server\n",
    "response = app.get('/get_all_models')\n",
    "response.get_json()"
   ]
  },
  {
   "cell_type": "markdown",
   "id": "ab725798-2b5f-4a5e-9f82-dc80d590d6bf",
   "metadata": {
    "tags": []
   },
   "source": [
    "### Create new Model Endpoint\n",
    "\n",
    "Endpoint: `\\create_model`\n",
    "\n",
    "Creates a new model with a fitting id within the src folder. Then the id of the new model will be returned for further usage.\n",
    "Because it is not possible to upload a python object to the API it is currently only possible to adapt an existing model. For example if there are only Lasso Regression models stored in src folder you can only adapt the lasso model."
   ]
  },
  {
   "cell_type": "code",
   "execution_count": 51,
   "id": "1e59c162-deff-45cf-852b-905e895329e6",
   "metadata": {},
   "outputs": [
    {
     "data": {
      "text/plain": [
       "<Response [200]>"
      ]
     },
     "execution_count": 51,
     "metadata": {},
     "output_type": "execute_result"
    }
   ],
   "source": [
    "# The URL of our API \n",
    "base_url = 'https://sko-webapp.herokuapp.com/'\n",
    "requests.get(base_url + '/check')"
   ]
  },
  {
   "cell_type": "code",
   "execution_count": 52,
   "id": "0a3c4e6b-e5ab-4c72-833a-4ee6f8a332cc",
   "metadata": {},
   "outputs": [
    {
     "data": {
      "text/plain": [
       "['model_1.pkl']"
      ]
     },
     "execution_count": 52,
     "metadata": {},
     "output_type": "execute_result"
    }
   ],
   "source": [
    "# Print All models on server\n",
    "response = requests.get(url=base_url+'/get_all_models')\n",
    "response.json()"
   ]
  },
  {
   "cell_type": "code",
   "execution_count": 26,
   "id": "adf9de98-d06f-4d4f-bc45-657a337d7de4",
   "metadata": {},
   "outputs": [],
   "source": [
    "new_model_params = {'alpha': 3}"
   ]
  },
  {
   "cell_type": "code",
   "execution_count": 53,
   "id": "5744a536-ac9a-4772-9551-d55cc33dd48e",
   "metadata": {},
   "outputs": [
    {
     "name": "stdout",
     "output_type": "stream",
     "text": [
      "HTTP-Statuscode: 200\n"
     ]
    }
   ],
   "source": [
    "# Send request to create new model\n",
    "response = requests.put(url=base_url+'/create_model', json=new_model_params)\n",
    "print('HTTP-Statuscode:', response.status_code)"
   ]
  },
  {
   "cell_type": "code",
   "execution_count": 54,
   "id": "8f653434-2f79-446d-910f-9fce033877e4",
   "metadata": {},
   "outputs": [
    {
     "data": {
      "text/plain": [
       "{'model_id': 2}"
      ]
     },
     "execution_count": 54,
     "metadata": {},
     "output_type": "execute_result"
    }
   ],
   "source": [
    "response.json()"
   ]
  },
  {
   "cell_type": "code",
   "execution_count": 56,
   "id": "6fa84f13-d704-4900-be19-20c34a6fe09c",
   "metadata": {},
   "outputs": [
    {
     "data": {
      "text/plain": [
       "['model_2.pkl', 'model_1.pkl']"
      ]
     },
     "execution_count": 56,
     "metadata": {},
     "output_type": "execute_result"
    }
   ],
   "source": [
    "# Print All models on server\n",
    "response = requests.get(url=base_url+'/get_all_models')\n",
    "response.json()"
   ]
  },
  {
   "cell_type": "markdown",
   "id": "e1ccf4bc-7116-48c1-8a39-3ed3fdd17655",
   "metadata": {},
   "source": [
    "### Prediction Endpoint\n",
    "\n",
    "Endpoint : `\\predict`\n",
    "\n",
    "First endpoint of the API, which we will check, is the prediction endpoint. With this endpoint you can send data to the API with POST method. \n",
    "We will convert our numpy array to a dataframe. This will make it easier to convert to JSON datatype which is needed for the API."
   ]
  },
  {
   "cell_type": "code",
   "execution_count": 57,
   "id": "fc3cb561-8dbb-4771-aae2-423fdfafc18c",
   "metadata": {},
   "outputs": [
    {
     "data": {
      "text/html": [
       "<div>\n",
       "<style scoped>\n",
       "    .dataframe tbody tr th:only-of-type {\n",
       "        vertical-align: middle;\n",
       "    }\n",
       "\n",
       "    .dataframe tbody tr th {\n",
       "        vertical-align: top;\n",
       "    }\n",
       "\n",
       "    .dataframe thead th {\n",
       "        text-align: right;\n",
       "    }\n",
       "</style>\n",
       "<table border=\"1\" class=\"dataframe\">\n",
       "  <thead>\n",
       "    <tr style=\"text-align: right;\">\n",
       "      <th></th>\n",
       "      <th>0</th>\n",
       "      <th>1</th>\n",
       "      <th>2</th>\n",
       "      <th>3</th>\n",
       "      <th>4</th>\n",
       "      <th>5</th>\n",
       "      <th>6</th>\n",
       "      <th>7</th>\n",
       "      <th>8</th>\n",
       "      <th>9</th>\n",
       "      <th>10</th>\n",
       "      <th>11</th>\n",
       "      <th>12</th>\n",
       "    </tr>\n",
       "  </thead>\n",
       "  <tbody>\n",
       "    <tr>\n",
       "      <th>0</th>\n",
       "      <td>0.00632</td>\n",
       "      <td>18.0</td>\n",
       "      <td>2.31</td>\n",
       "      <td>0.0</td>\n",
       "      <td>0.538</td>\n",
       "      <td>6.575</td>\n",
       "      <td>65.2</td>\n",
       "      <td>4.0900</td>\n",
       "      <td>1.0</td>\n",
       "      <td>296.0</td>\n",
       "      <td>15.3</td>\n",
       "      <td>396.9</td>\n",
       "      <td>4.98</td>\n",
       "    </tr>\n",
       "    <tr>\n",
       "      <th>1</th>\n",
       "      <td>0.02731</td>\n",
       "      <td>0.0</td>\n",
       "      <td>7.07</td>\n",
       "      <td>0.0</td>\n",
       "      <td>0.469</td>\n",
       "      <td>6.421</td>\n",
       "      <td>78.9</td>\n",
       "      <td>4.9671</td>\n",
       "      <td>2.0</td>\n",
       "      <td>242.0</td>\n",
       "      <td>17.8</td>\n",
       "      <td>396.9</td>\n",
       "      <td>9.14</td>\n",
       "    </tr>\n",
       "  </tbody>\n",
       "</table>\n",
       "</div>"
      ],
      "text/plain": [
       "        0     1     2    3      4      5     6       7    8      9     10  \\\n",
       "0  0.00632  18.0  2.31  0.0  0.538  6.575  65.2  4.0900  1.0  296.0  15.3   \n",
       "1  0.02731   0.0  7.07  0.0  0.469  6.421  78.9  4.9671  2.0  242.0  17.8   \n",
       "\n",
       "      11    12  \n",
       "0  396.9  4.98  \n",
       "1  396.9  9.14  "
      ]
     },
     "execution_count": 57,
     "metadata": {},
     "output_type": "execute_result"
    }
   ],
   "source": [
    "# Create dataframe to convert it to json\n",
    "data = pd.DataFrame(X)\n",
    "data.head(2)"
   ]
  },
  {
   "cell_type": "code",
   "execution_count": 58,
   "id": "b2d65a9d-6e4d-438f-8b30-af4d6eb2a7e0",
   "metadata": {},
   "outputs": [],
   "source": [
    "# Convert to JSON\n",
    "data = data.to_json(orient='records')"
   ]
  },
  {
   "cell_type": "code",
   "execution_count": 59,
   "id": "16832a7c-9943-426f-bf8e-b75441806bff",
   "metadata": {},
   "outputs": [
    {
     "name": "stdout",
     "output_type": "stream",
     "text": [
      "HTTP-Statuscode: 200\n"
     ]
    }
   ],
   "source": [
    "# Send request\n",
    "response = requests.post(url=base_url+'/predict/1', json=data)\n",
    "print('HTTP-Statuscode:', response.status_code)"
   ]
  },
  {
   "cell_type": "code",
   "execution_count": 60,
   "id": "d28aa063-7317-4093-8f41-a385a461db21",
   "metadata": {},
   "outputs": [
    {
     "name": "stdout",
     "output_type": "stream",
     "text": [
      "Predictions : \n",
      " [30.003843377016807, 25.025562379053135, 30.567596718601614, 28.607036488728102, 27.94352423287301]\n"
     ]
    }
   ],
   "source": [
    "print('Predictions : \\n', response.json()[:5])"
   ]
  },
  {
   "cell_type": "markdown",
   "id": "817289a3-7dc2-4d39-8bef-cf9983561250",
   "metadata": {
    "tags": []
   },
   "source": [
    "### Score Endpoint\n",
    "\n",
    "Endpoint: `\\score`\n",
    "\n",
    "Next we will test the Scoring endpoint of the API. The scoring endpoint returns the score of the model reached by the uploaded data. Therefore we have to send the X and y data encoded as JSON."
   ]
  },
  {
   "cell_type": "code",
   "execution_count": 61,
   "id": "fdf740b4-c854-456f-9f40-e8d385a4deda",
   "metadata": {},
   "outputs": [],
   "source": [
    "y_ = pd.DataFrame(y)\n",
    "y_ = y_.to_json(orient='records')"
   ]
  },
  {
   "cell_type": "code",
   "execution_count": 62,
   "id": "c2f80b5a-be3d-45b8-91ad-f098b698e5e2",
   "metadata": {},
   "outputs": [],
   "source": [
    "data_ = dict(X=data, y=y_)"
   ]
  },
  {
   "cell_type": "code",
   "execution_count": 63,
   "id": "d399e9cc-7445-4ef9-a1e0-83abe46b83ec",
   "metadata": {},
   "outputs": [
    {
     "name": "stdout",
     "output_type": "stream",
     "text": [
      "HTTP-Statuscode: 200\n"
     ]
    }
   ],
   "source": [
    "response = requests.post(url=base_url+'/score/2', json=data_)\n",
    "print('HTTP-Statuscode:', response.status_code)"
   ]
  },
  {
   "cell_type": "code",
   "execution_count": 64,
   "id": "2f55a8cc-8ed3-495f-a5cc-64491fc5905b",
   "metadata": {},
   "outputs": [
    {
     "name": "stdout",
     "output_type": "stream",
     "text": [
      "R2-Score:  0.7406426641094094\n"
     ]
    }
   ],
   "source": [
    "print('R2-Score: ',response.json())"
   ]
  },
  {
   "cell_type": "markdown",
   "id": "bb36b15b-57e4-4eca-8b2c-d6fc2e1c7417",
   "metadata": {},
   "source": [
    "### Model Coefficients Endpoint\n",
    "\n",
    "Endpoint: `\\model_params`\n",
    "\n",
    "This endpoint can be reached with a GET requests and returns the model parameters. The model parameters depend on the model used. It is expected that this changes from model to model. In accordance with that the model parameters have to be changed."
   ]
  },
  {
   "cell_type": "code",
   "execution_count": 65,
   "id": "50d68f25-1771-4211-ada1-aa3f6b3a105e",
   "metadata": {},
   "outputs": [
    {
     "name": "stdout",
     "output_type": "stream",
     "text": [
      "HTTP-Statuscode: 200\n"
     ]
    }
   ],
   "source": [
    "response = requests.get(url=base_url + '/model_params/2')\n",
    "print('HTTP-Statuscode:', response.status_code)"
   ]
  },
  {
   "cell_type": "code",
   "execution_count": 66,
   "id": "c1047a54-3943-4b05-8e69-ccfa1e3b68e2",
   "metadata": {},
   "outputs": [
    {
     "data": {
      "text/plain": [
       "{'_normalize': False,\n",
       " 'alpha': 3,\n",
       " 'coef_': [-0.10801135783679626,\n",
       "  0.04642045836688073,\n",
       "  0.020558626367068414,\n",
       "  2.6867338193449006,\n",
       "  -17.76661122830023,\n",
       "  3.809865206809228,\n",
       "  0.0006922246403443731,\n",
       "  -1.4755668456002566,\n",
       "  0.3060494789851648,\n",
       "  -0.012334593916573912,\n",
       "  -0.95274723170729,\n",
       "  0.009311683273793841,\n",
       "  -0.5247583778554887],\n",
       " 'copy_X': True,\n",
       " 'fit_intercept': True,\n",
       " 'intercept_': 36.45948838508981,\n",
       " 'max_iter': None,\n",
       " 'n_features_in_': 13,\n",
       " 'n_iter_': None,\n",
       " 'normalize': 'deprecated',\n",
       " 'positive': False,\n",
       " 'random_state': None,\n",
       " 'solver': 'auto',\n",
       " 'tol': 0.001}"
      ]
     },
     "execution_count": 66,
     "metadata": {},
     "output_type": "execute_result"
    }
   ],
   "source": [
    "model_coef = response.json()\n",
    "model_coef"
   ]
  },
  {
   "cell_type": "markdown",
   "id": "0a6eb00e-a7ff-41cc-8074-d916adf8d2a4",
   "metadata": {
    "tags": []
   },
   "source": [
    "### Update Model Endpoint\n",
    "\n",
    "Endpoint: `/update_model`\n",
    "\n",
    "This endpoint can be reached with a put request. With this requests you give the model new model parameters. As well as the method above this need to be changed as the model parameters strongly depend on the model. However it makes sense to change the model parameters if the model need to be retrained with new data for instance time series data."
   ]
  },
  {
   "cell_type": "code",
   "execution_count": 67,
   "id": "ab5ab1d1-7e1f-477e-bfe2-d43665e7e1df",
   "metadata": {},
   "outputs": [
    {
     "name": "stdout",
     "output_type": "stream",
     "text": [
      "HTTP-Statuscode: 200\n"
     ]
    }
   ],
   "source": [
    "# Update model parameters\n",
    "response = requests.put(url=base_url+'/update_model/2', json={'params': np.random.uniform(size=len(model_coef['coef_'])).tolist()})\n",
    "print('HTTP-Statuscode:', response.status_code)"
   ]
  },
  {
   "cell_type": "code",
   "execution_count": 68,
   "id": "abf8534e-73d1-42a2-9d48-1a200a71d777",
   "metadata": {},
   "outputs": [
    {
     "data": {
      "text/plain": [
       "'Parameters updated successfully.'"
      ]
     },
     "execution_count": 68,
     "metadata": {},
     "output_type": "execute_result"
    }
   ],
   "source": [
    "# Print response\n",
    "response.json()"
   ]
  },
  {
   "cell_type": "code",
   "execution_count": 69,
   "id": "324402b9-e175-4c8f-91a3-73bbdace2aff",
   "metadata": {},
   "outputs": [],
   "source": [
    "# Check if model parameters have changed by requesting the model parameters\n",
    "response = requests.get(url=base_url + '/model_params/2')"
   ]
  },
  {
   "cell_type": "code",
   "execution_count": 70,
   "id": "9a8effb6-bca2-4676-b19b-8f5e3271225d",
   "metadata": {},
   "outputs": [
    {
     "name": "stdout",
     "output_type": "stream",
     "text": [
      "New Model Parameters: \n",
      " {'_normalize': False, 'alpha': 3, 'coef_': [0.56651304232847, 0.12714359453131496, 0.09690361484609544, 0.6899060453155397, 0.0058304784115867925, 0.884159574622631, 0.4226790077852771, 0.3684488030062578, 0.4328225952860757, 0.5663242044365917, 0.6270367343864853, 0.9845217685172278, 0.7965459917037604], 'copy_X': True, 'fit_intercept': True, 'intercept_': 36.45948838508981, 'max_iter': None, 'n_features_in_': 13, 'n_iter_': None, 'normalize': 'deprecated', 'positive': False, 'random_state': None, 'solver': 'auto', 'tol': 0.001}\n",
      "Old Model Parameters: \n",
      " [-0.10801135783679626, 0.04642045836688073, 0.020558626367068414, 2.6867338193449006, -17.76661122830023, 3.809865206809228, 0.0006922246403443731, -1.4755668456002566, 0.3060494789851648, -0.012334593916573912, -0.95274723170729, 0.009311683273793841, -0.5247583778554887]\n"
     ]
    }
   ],
   "source": [
    "new_coef = response.json()\n",
    "\n",
    "print('New Model Parameters: \\n', new_coef)\n",
    "print('Old Model Parameters: \\n', model_coef['coef_'])"
   ]
  },
  {
   "cell_type": "markdown",
   "id": "b3940507-e8c7-4b9b-b55e-487bfd5f6f24",
   "metadata": {},
   "source": [
    "In comparisson to the old parameters we can see that the parameters have been changed now.\n",
    "\n",
    "### Delete Model Endpoint\n",
    "\n",
    "Endpoint: `\\delete_model` \n",
    "\n",
    "As we have changed the model parameters the model is in fact not usable anymore. Ultimately we have to delete it. For this purpose I created a delete endpoint. "
   ]
  },
  {
   "cell_type": "code",
   "execution_count": 71,
   "id": "6fd63224-046b-4318-b3d9-2c4e06989ac3",
   "metadata": {},
   "outputs": [
    {
     "name": "stdout",
     "output_type": "stream",
     "text": [
      "HTTP-Statuscode: 200\n"
     ]
    }
   ],
   "source": [
    "response = requests.delete(url=base_url+ '/delete_model/2')\n",
    "print('HTTP-Statuscode:', response.status_code)"
   ]
  },
  {
   "cell_type": "code",
   "execution_count": 72,
   "id": "20904bdc-59db-43a4-b973-31808b4f2a97",
   "metadata": {},
   "outputs": [
    {
     "name": "stdout",
     "output_type": "stream",
     "text": [
      "Model Deleted Successfully.\n"
     ]
    }
   ],
   "source": [
    "print(response.json())"
   ]
  },
  {
   "cell_type": "code",
   "execution_count": 73,
   "id": "8aa38c81-0727-41b5-a1e9-973d49af14a5",
   "metadata": {},
   "outputs": [
    {
     "data": {
      "text/plain": [
       "['model_1.pkl']"
      ]
     },
     "execution_count": 73,
     "metadata": {},
     "output_type": "execute_result"
    }
   ],
   "source": [
    "# Print All models on server\n",
    "response = requests.get(url=base_url+'/get_all_models')\n",
    "response.json()"
   ]
  },
  {
   "cell_type": "code",
   "execution_count": 74,
   "id": "81289981-96bb-4de4-affb-71e35b06b6c2",
   "metadata": {},
   "outputs": [
    {
     "ename": "NameError",
     "evalue": "name 'model_delete' is not defined",
     "output_type": "error",
     "traceback": [
      "\u001b[1;31m---------------------------------------------------------------------------\u001b[0m",
      "\u001b[1;31mNameError\u001b[0m                                 Traceback (most recent call last)",
      "\u001b[1;32m<ipython-input-74-ac6944ee2d5a>\u001b[0m in \u001b[0;36m<module>\u001b[1;34m\u001b[0m\n\u001b[1;32m----> 1\u001b[1;33m \u001b[0mresponse\u001b[0m \u001b[1;33m=\u001b[0m \u001b[0mrequests\u001b[0m\u001b[1;33m.\u001b[0m\u001b[0mdelete\u001b[0m\u001b[1;33m(\u001b[0m\u001b[0murl\u001b[0m\u001b[1;33m=\u001b[0m\u001b[0mbase_url\u001b[0m \u001b[1;33m+\u001b[0m \u001b[1;34mf'/delete_model/{model_delete}'\u001b[0m\u001b[1;33m)\u001b[0m\u001b[1;33m\u001b[0m\u001b[1;33m\u001b[0m\u001b[0m\n\u001b[0m\u001b[0;32m      2\u001b[0m \u001b[0mresponse\u001b[0m\u001b[1;33m.\u001b[0m\u001b[0mjson\u001b[0m\u001b[1;33m(\u001b[0m\u001b[1;33m)\u001b[0m\u001b[1;33m\u001b[0m\u001b[1;33m\u001b[0m\u001b[0m\n",
      "\u001b[1;31mNameError\u001b[0m: name 'model_delete' is not defined"
     ]
    }
   ],
   "source": [
    "response = requests.delete(url=base_url + f'/delete_model/{model_delete}')\n",
    "response.json()"
   ]
  }
 ],
 "metadata": {
  "kernelspec": {
   "display_name": "Python 3",
   "language": "python",
   "name": "python3"
  },
  "language_info": {
   "codemirror_mode": {
    "name": "ipython",
    "version": 3
   },
   "file_extension": ".py",
   "mimetype": "text/x-python",
   "name": "python",
   "nbconvert_exporter": "python",
   "pygments_lexer": "ipython3",
   "version": "3.8.8"
  }
 },
 "nbformat": 4,
 "nbformat_minor": 5
}
